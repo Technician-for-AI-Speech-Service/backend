{
 "cells": [
  {
   "cell_type": "code",
   "execution_count": 3,
   "metadata": {},
   "outputs": [],
   "source": [
    "import urllib3\n",
    "import json\n",
    "import base64\n",
    "\n",
    "openApiURL = \"http://aiopen.etri.re.kr:8000/WiseASR/Recognition\"\n",
    "accessKey = \"57536e54-f9a7-4f44-9a3a-998b3692fba2\"\n",
    "audioFilePath = \"./recorded_audio.wav\"\n",
    "languageCode = \"korean\"\n",
    "\n",
    "file = open(audioFilePath, \"rb\")\n",
    "audioContents = base64.b64encode(file.read()).decode(\"utf8\")\n",
    "file.close()\n",
    "\n",
    "requestJson = {    \n",
    "\"argument\": {\n",
    "    \"language_code\": languageCode,\n",
    "    \"audio\": audioContents\n",
    "}\n",
    "}\n",
    "\n",
    "# REST API\n",
    "http = urllib3.PoolManager()\n",
    "response = http.request(\n",
    "\"POST\",\n",
    "openApiURL,\n",
    "headers={\"Content-Type\": \"application/json; charset=UTF-8\",\"Authorization\": accessKey},\n",
    "body=json.dumps(requestJson)\n",
    ")\n",
    "\n",
    "print(\"[responseCode] \" + str(response.status))\n",
    "print(\"[responBody]\")\n",
    "# print(str(response.data,\"utf-8\"))\n",
    "data = json.loads(response.data.decode(\"utf-8\", errors='ignore'))    \n",
    "text_data = data['return_object']['recognized']\n"
   ]
  }
 ],
 "metadata": {
  "kernelspec": {
   "display_name": "Python 3",
   "language": "python",
   "name": "python3"
  },
  "language_info": {
   "codemirror_mode": {
    "name": "ipython",
    "version": 3
   },
   "file_extension": ".py",
   "mimetype": "text/x-python",
   "name": "python",
   "nbconvert_exporter": "python",
   "pygments_lexer": "ipython3",
   "version": "3.9.13"
  }
 },
 "nbformat": 4,
 "nbformat_minor": 2
}
